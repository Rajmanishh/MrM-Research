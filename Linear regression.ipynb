{
 "cells": [
  {
   "cell_type": "code",
   "execution_count": 1,
   "id": "4556b6a9",
   "metadata": {},
   "outputs": [
    {
     "ename": "ValueError",
     "evalue": "invalid literal for int() with base 10: ''",
     "output_type": "error",
     "traceback": [
      "\u001b[31m---------------------------------------------------------------------------\u001b[39m",
      "\u001b[31mValueError\u001b[39m                                Traceback (most recent call last)",
      "\u001b[36mCell\u001b[39m\u001b[36m \u001b[39m\u001b[32mIn[1]\u001b[39m\u001b[32m, line 38\u001b[39m\n\u001b[32m     35\u001b[39m     b -= L * D_b\n\u001b[32m     37\u001b[39m \u001b[38;5;66;03m# Predict for input\u001b[39;00m\n\u001b[32m---> \u001b[39m\u001b[32m38\u001b[39m a = \u001b[38;5;28;43mint\u001b[39;49m\u001b[43m(\u001b[49m\u001b[38;5;28;43minput\u001b[39;49m\u001b[43m(\u001b[49m\u001b[33;43m\"\u001b[39;49m\u001b[33;43mInput the index number of the car to predict its price: \u001b[39;49m\u001b[33;43m\"\u001b[39;49m\u001b[43m)\u001b[49m\u001b[43m)\u001b[49m\n\u001b[32m     39\u001b[39m y_pred_final = np.dot(x_dash, m_dash) + b\n\u001b[32m     40\u001b[39m y_pred_final_real = y_pred_final * (y.max() - y.min()) + y.min()  \u001b[38;5;66;03m# rescale\u001b[39;00m\n",
      "\u001b[31mValueError\u001b[39m: invalid literal for int() with base 10: ''"
     ]
    }
   ],
   "source": [
    "import numpy as np\n",
    "import pandas as pd\n",
    "\n",
    "data = pd.read_csv(r\"D:\\OneDrive\\Desktop\\First Semester\\MrM Research\\Coding\\Data\\Linear Regression Dataset\\CarPrices\\CarPrice_Assignment.csv\")\n",
    "\n",
    "# Feature selection\n",
    "features = [\"enginesize\", \"curbweight\", \"horsepower\", \"carwidth\"]\n",
    "\n",
    "# Scale features\n",
    "x_scaled_list = []\n",
    "for feature in features:\n",
    "    x = data[feature]\n",
    "    x_scaled = (x - x.min()) / (x.max() - x.min())\n",
    "    x_scaled_list.append(x_scaled)\n",
    "x_dash = np.array(x_scaled_list).T\n",
    "\n",
    "# Scale target\n",
    "y = data['price']\n",
    "y_scaled = (y - y.min()) / (y.max() - y.min())\n",
    "y_scaled_np = np.array(y_scaled)\n",
    "\n",
    "# Initialize weights\n",
    "m_dash = np.zeros(len(features))\n",
    "b = 0.0\n",
    "L = 0.1\n",
    "epochs = 300\n",
    "error = []\n",
    "\n",
    "# Gradient descent\n",
    "for i in range(epochs):\n",
    "    y_pred = np.dot(x_dash, m_dash) + b\n",
    "    D_m = np.mean((y_pred - y_scaled_np)[:, None] * x_dash, axis=0)\n",
    "    D_b = np.mean(y_pred - y_scaled_np)\n",
    "    m_dash -= L * D_m\n",
    "    b -= L * D_b\n",
    "\n",
    "# Predict for input\n",
    "a = int(input(\"Input the index number of the car to predict its price: \"))\n",
    "y_pred_final = np.dot(x_dash, m_dash) + b\n",
    "y_pred_final_real = y_pred_final * (y.max() - y.min()) + y.min()  # rescale\n",
    "\n",
    "comparison = pd.Series({'Actual': y[a], 'Predicted': y_pred_final_real[a]})\n",
    "\n",
    "print(comparison)\n",
    "\n",
    "# MAPE\n",
    "y_true = y.to_numpy()\n",
    "mape = np.mean(np.abs((y_true - y_pred_final_real) / y_true)) * 100\n",
    "print(f\"Mean Absolute Percentage Error (MAPE): {mape:.2f}%\")"
   ]
  }
 ],
 "metadata": {
  "kernelspec": {
   "display_name": "Python 3",
   "language": "python",
   "name": "python3"
  },
  "language_info": {
   "codemirror_mode": {
    "name": "ipython",
    "version": 3
   },
   "file_extension": ".py",
   "mimetype": "text/x-python",
   "name": "python",
   "nbconvert_exporter": "python",
   "pygments_lexer": "ipython3",
   "version": "3.13.9"
  }
 },
 "nbformat": 4,
 "nbformat_minor": 5
}
