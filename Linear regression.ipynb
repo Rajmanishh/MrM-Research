{
 "cells": [
  {
   "cell_type": "code",
   "execution_count": 2,
   "id": "4556b6a9",
   "metadata": {},
   "outputs": [
    {
     "name": "stdout",
     "output_type": "stream",
     "text": [
      "Actual       13950.000000\n",
      "Predicted    11803.672301\n",
      "dtype: float64\n",
      "Mean Absolute Percentage Error (MAPE): 17.74%\n"
     ]
    }
   ],
   "source": [
    "import numpy as np\n",
    "import pandas as pd\n",
    "\n",
    "data = pd.read_csv(r\"D:\\OneDrive\\Desktop\\First Semester\\MrM Research\\Coding\\Data\\Linear Regression Dataset\\CarPrices\\CarPrice_Assignment.csv\")\n",
    "\n",
    "# Feature selection\n",
    "features = [\"enginesize\", \"curbweight\", \"horsepower\", \"carwidth\"]\n",
    "\n",
    "# Scale features\n",
    "x_scaled_list = []\n",
    "for feature in features:\n",
    "    x = data[feature]\n",
    "    x_scaled = (x - x.min()) / (x.max() - x.min())\n",
    "    x_scaled_list.append(x_scaled)\n",
    "x_dash = np.array(x_scaled_list).T\n",
    "\n",
    "# Scale target\n",
    "y = data['price']\n",
    "y_scaled = (y - y.min()) / (y.max() - y.min())\n",
    "y_scaled_np = np.array(y_scaled)\n",
    "\n",
    "# Initialize weights\n",
    "m_dash = np.zeros(len(features))\n",
    "b = 0.0\n",
    "L = 0.1\n",
    "epochs = 300\n",
    "error = []\n",
    "\n",
    "# Gradient descent\n",
    "for i in range(epochs):\n",
    "    y_pred = np.dot(x_dash, m_dash) + b\n",
    "    D_m = np.mean((y_pred - y_scaled_np)[:, None] * x_dash, axis=0)\n",
    "    D_b = np.mean(y_pred - y_scaled_np)\n",
    "    m_dash -= L * D_m\n",
    "    b -= L * D_b\n",
    "\n",
    "# Predict for input\n",
    "a = int(input(\"Input the index number of the car to predict its price: \"))\n",
    "y_pred_final = np.dot(x_dash, m_dash) + b\n",
    "y_pred_final_real = y_pred_final * (y.max() - y.min()) + y.min()  # rescale\n",
    "\n",
    "comparison = pd.Series({'Actual': y[a], 'Predicted': y_pred_final_real[a]})\n",
    "\n",
    "print(comparison)\n",
    "\n",
    "# MAPE\n",
    "y_true = y.to_numpy()\n",
    "mape = np.mean(np.abs((y_true - y_pred_final_real) / y_true)) * 100\n",
    "print(f\"Mean Absolute Percentage Error (MAPE): {mape:.2f}%\")"
   ]
  }
 ],
 "metadata": {
  "kernelspec": {
   "display_name": "Python 3",
   "language": "python",
   "name": "python3"
  },
  "language_info": {
   "codemirror_mode": {
    "name": "ipython",
    "version": 3
   },
   "file_extension": ".py",
   "mimetype": "text/x-python",
   "name": "python",
   "nbconvert_exporter": "python",
   "pygments_lexer": "ipython3",
   "version": "3.13.9"
  }
 },
 "nbformat": 4,
 "nbformat_minor": 5
}
